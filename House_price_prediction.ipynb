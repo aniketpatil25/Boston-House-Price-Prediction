{
 "cells": [
  {
   "cell_type": "markdown",
   "metadata": {
    "id": "EIdT9iu_Z4Rb"
   },
   "source": [
    "# Linear regression: Housing Price Prediction"
   ]
  },
  {
   "cell_type": "code",
   "execution_count": 4,
   "metadata": {},
   "outputs": [
    {
     "name": "stdout",
     "output_type": "stream",
     "text": [
      "Collecting tensorflow\n",
      "  Using cached tensorflow-2.12.0-cp311-cp311-win_amd64.whl (1.9 kB)\n",
      "Collecting tensorflow-intel==2.12.0\n",
      "  Using cached tensorflow_intel-2.12.0-cp311-cp311-win_amd64.whl (272.9 MB)\n",
      "Collecting absl-py>=1.0.0\n",
      "  Using cached absl_py-1.4.0-py3-none-any.whl (126 kB)\n",
      "Collecting astunparse>=1.6.0\n",
      "  Using cached astunparse-1.6.3-py2.py3-none-any.whl (12 kB)\n",
      "Requirement already satisfied: flatbuffers>=2.0 in c:\\users\\aniket\\appdata\\local\\programs\\python\\python311\\lib\\site-packages (from tensorflow-intel==2.12.0->tensorflow) (23.3.3)\n",
      "Collecting gast<=0.4.0,>=0.2.1\n",
      "  Using cached gast-0.4.0-py3-none-any.whl (9.8 kB)\n",
      "Collecting google-pasta>=0.1.1\n",
      "  Using cached google_pasta-0.2.0-py3-none-any.whl (57 kB)\n",
      "Collecting h5py>=2.9.0\n",
      "  Using cached h5py-3.8.0-cp311-cp311-win_amd64.whl (2.6 MB)\n",
      "Collecting jax>=0.3.15\n",
      "  Using cached jax-0.4.8-py3-none-any.whl\n",
      "Requirement already satisfied: libclang>=13.0.0 in c:\\users\\aniket\\appdata\\local\\programs\\python\\python311\\lib\\site-packages (from tensorflow-intel==2.12.0->tensorflow) (16.0.0)\n",
      "Requirement already satisfied: numpy<1.24,>=1.22 in c:\\users\\aniket\\appdata\\local\\programs\\python\\python311\\lib\\site-packages (from tensorflow-intel==2.12.0->tensorflow) (1.23.5)\n",
      "Collecting opt-einsum>=2.3.2\n",
      "  Using cached opt_einsum-3.3.0-py3-none-any.whl (65 kB)\n",
      "Requirement already satisfied: packaging in c:\\users\\aniket\\appdata\\local\\programs\\python\\python311\\lib\\site-packages (from tensorflow-intel==2.12.0->tensorflow) (23.0)\n",
      "Requirement already satisfied: protobuf!=4.21.0,!=4.21.1,!=4.21.2,!=4.21.3,!=4.21.4,!=4.21.5,<5.0.0dev,>=3.20.3 in c:\\users\\aniket\\appdata\\local\\programs\\python\\python311\\lib\\site-packages (from tensorflow-intel==2.12.0->tensorflow) (4.22.4)\n",
      "Requirement already satisfied: setuptools in c:\\users\\aniket\\appdata\\local\\programs\\python\\python311\\lib\\site-packages (from tensorflow-intel==2.12.0->tensorflow) (65.5.0)\n",
      "Requirement already satisfied: six>=1.12.0 in c:\\users\\aniket\\appdata\\local\\programs\\python\\python311\\lib\\site-packages (from tensorflow-intel==2.12.0->tensorflow) (1.16.0)\n",
      "Requirement already satisfied: termcolor>=1.1.0 in c:\\users\\aniket\\appdata\\local\\programs\\python\\python311\\lib\\site-packages (from tensorflow-intel==2.12.0->tensorflow) (2.3.0)\n",
      "Requirement already satisfied: typing-extensions>=3.6.6 in c:\\users\\aniket\\appdata\\local\\programs\\python\\python311\\lib\\site-packages (from tensorflow-intel==2.12.0->tensorflow) (4.5.0)\n",
      "Requirement already satisfied: wrapt<1.15,>=1.11.0 in c:\\users\\aniket\\appdata\\local\\programs\\python\\python311\\lib\\site-packages (from tensorflow-intel==2.12.0->tensorflow) (1.14.1)\n",
      "Collecting grpcio<2.0,>=1.24.3\n",
      "  Using cached grpcio-1.54.0-cp311-cp311-win_amd64.whl (4.1 MB)\n",
      "Collecting tensorboard<2.13,>=2.12\n",
      "  Using cached tensorboard-2.12.3-py3-none-any.whl (5.6 MB)\n",
      "Requirement already satisfied: tensorflow-estimator<2.13,>=2.12.0 in c:\\users\\aniket\\appdata\\local\\programs\\python\\python311\\lib\\site-packages (from tensorflow-intel==2.12.0->tensorflow) (2.12.0)\n",
      "Requirement already satisfied: keras<2.13,>=2.12.0 in c:\\users\\aniket\\appdata\\local\\programs\\python\\python311\\lib\\site-packages (from tensorflow-intel==2.12.0->tensorflow) (2.12.0)\n",
      "Requirement already satisfied: tensorflow-io-gcs-filesystem>=0.23.1 in c:\\users\\aniket\\appdata\\local\\programs\\python\\python311\\lib\\site-packages (from tensorflow-intel==2.12.0->tensorflow) (0.31.0)\n",
      "Requirement already satisfied: wheel<1.0,>=0.23.0 in c:\\users\\aniket\\appdata\\local\\programs\\python\\python311\\lib\\site-packages (from astunparse>=1.6.0->tensorflow-intel==2.12.0->tensorflow) (0.40.0)\n",
      "Collecting ml-dtypes>=0.0.3\n",
      "  Using cached ml_dtypes-0.1.0-cp311-cp311-win_amd64.whl (120 kB)\n",
      "Requirement already satisfied: scipy>=1.7 in c:\\users\\aniket\\appdata\\local\\programs\\python\\python311\\lib\\site-packages (from jax>=0.3.15->tensorflow-intel==2.12.0->tensorflow) (1.10.1)\n",
      "Collecting google-auth<3,>=1.6.3\n",
      "  Using cached google_auth-2.17.3-py2.py3-none-any.whl (178 kB)\n",
      "Collecting google-auth-oauthlib<1.1,>=0.5\n",
      "  Using cached google_auth_oauthlib-1.0.0-py2.py3-none-any.whl (18 kB)\n",
      "Collecting markdown>=2.6.8\n",
      "  Using cached Markdown-3.4.3-py3-none-any.whl (93 kB)\n",
      "Collecting requests<3,>=2.21.0\n",
      "  Using cached requests-2.30.0-py3-none-any.whl (62 kB)\n",
      "Requirement already satisfied: tensorboard-data-server<0.8.0,>=0.7.0 in c:\\users\\aniket\\appdata\\local\\programs\\python\\python311\\lib\\site-packages (from tensorboard<2.13,>=2.12->tensorflow-intel==2.12.0->tensorflow) (0.7.0)\n",
      "Requirement already satisfied: werkzeug>=1.0.1 in c:\\users\\aniket\\appdata\\local\\programs\\python\\python311\\lib\\site-packages (from tensorboard<2.13,>=2.12->tensorflow-intel==2.12.0->tensorflow) (2.3.3)\n",
      "Collecting cachetools<6.0,>=2.0.0\n",
      "  Using cached cachetools-5.3.0-py3-none-any.whl (9.3 kB)\n",
      "Collecting pyasn1-modules>=0.2.1\n",
      "  Using cached pyasn1_modules-0.3.0-py2.py3-none-any.whl (181 kB)\n",
      "Collecting rsa<5,>=3.1.4\n",
      "  Using cached rsa-4.9-py3-none-any.whl (34 kB)\n",
      "Collecting requests-oauthlib>=0.7.0\n",
      "  Using cached requests_oauthlib-1.3.1-py2.py3-none-any.whl (23 kB)\n",
      "Collecting charset-normalizer<4,>=2\n",
      "  Using cached charset_normalizer-3.1.0-cp311-cp311-win_amd64.whl (96 kB)\n",
      "Requirement already satisfied: idna<4,>=2.5 in c:\\users\\aniket\\appdata\\local\\programs\\python\\python311\\lib\\site-packages (from requests<3,>=2.21.0->tensorboard<2.13,>=2.12->tensorflow-intel==2.12.0->tensorflow) (3.4)\n",
      "Requirement already satisfied: urllib3<3,>=1.21.1 in c:\\users\\aniket\\appdata\\local\\programs\\python\\python311\\lib\\site-packages (from requests<3,>=2.21.0->tensorboard<2.13,>=2.12->tensorflow-intel==2.12.0->tensorflow) (2.0.2)\n",
      "Collecting certifi>=2017.4.17\n",
      "  Using cached certifi-2022.12.7-py3-none-any.whl (155 kB)\n",
      "Requirement already satisfied: MarkupSafe>=2.1.1 in c:\\users\\aniket\\appdata\\local\\programs\\python\\python311\\lib\\site-packages (from werkzeug>=1.0.1->tensorboard<2.13,>=2.12->tensorflow-intel==2.12.0->tensorflow) (2.1.2)\n",
      "Requirement already satisfied: pyasn1<0.6.0,>=0.4.6 in c:\\users\\aniket\\appdata\\local\\programs\\python\\python311\\lib\\site-packages (from pyasn1-modules>=0.2.1->google-auth<3,>=1.6.3->tensorboard<2.13,>=2.12->tensorflow-intel==2.12.0->tensorflow) (0.5.0)\n",
      "Requirement already satisfied: oauthlib>=3.0.0 in c:\\users\\aniket\\appdata\\local\\programs\\python\\python311\\lib\\site-packages (from requests-oauthlib>=0.7.0->google-auth-oauthlib<1.1,>=0.5->tensorboard<2.13,>=2.12->tensorflow-intel==2.12.0->tensorflow) (3.2.2)\n",
      "Installing collected packages: rsa, pyasn1-modules, opt-einsum, ml-dtypes, markdown, h5py, grpcio, google-pasta, gast, charset-normalizer, certifi, cachetools, astunparse, absl-py, requests, jax, google-auth, requests-oauthlib, google-auth-oauthlib, tensorboard, tensorflow-intel, tensorflow\n",
      "Successfully installed absl-py-1.4.0 astunparse-1.6.3 cachetools-5.3.0 certifi-2022.12.7 charset-normalizer-3.1.0 gast-0.4.0 google-auth-2.17.3 google-auth-oauthlib-1.0.0 google-pasta-0.2.0 grpcio-1.54.0 h5py-3.8.0 jax-0.4.8 markdown-3.4.3 ml-dtypes-0.1.0 opt-einsum-3.3.0 pyasn1-modules-0.3.0 requests-2.30.0 requests-oauthlib-1.3.1 rsa-4.9 tensorboard-2.12.3 tensorflow-2.12.0 tensorflow-intel-2.12.0\n",
      "Note: you may need to restart the kernel to use updated packages.\n"
     ]
    },
    {
     "name": "stderr",
     "output_type": "stream",
     "text": [
      "WARNING: Retrying (Retry(total=4, connect=None, read=None, redirect=None, status=None)) after connection broken by 'NewConnectionError('<pip._vendor.urllib3.connection.HTTPSConnection object at 0x000001DB385B9A90>: Failed to establish a new connection: [Errno 11001] getaddrinfo failed')': /simple/tensorflow/\n",
      "WARNING: Retrying (Retry(total=3, connect=None, read=None, redirect=None, status=None)) after connection broken by 'NewConnectionError('<pip._vendor.urllib3.connection.HTTPSConnection object at 0x000001DB385BA090>: Failed to establish a new connection: [Errno 11001] getaddrinfo failed')': /simple/tensorflow/\n",
      "\n",
      "[notice] A new release of pip available: 22.3.1 -> 23.1.2\n",
      "[notice] To update, run: python.exe -m pip install --upgrade pip\n"
     ]
    }
   ],
   "source": [
    "pip install tensorflow"
   ]
  },
  {
   "cell_type": "code",
   "execution_count": 6,
   "metadata": {
    "id": "1rRo8oNqZ-Rj"
   },
   "outputs": [],
   "source": [
    "import matplotlib.pyplot as plt\n",
    "import pandas as pd\n",
    "\n",
    "import tensorflow as tf\n",
    "\n",
    "from tensorflow import keras #cleaner and shorter weight\n",
    "from tensorflow.keras import layers #e.g. hidden/ output...\n",
    "from tensorflow.keras.datasets import boston_housing #data\n",
    "import time"
   ]
  },
  {
   "cell_type": "markdown",
   "metadata": {
    "id": "AHp3M9ZmrIxj"
   },
   "source": [
    "This notebook uses the classic [Boston Housing](http://lib.stat.cmu.edu/datasets/boston) Dataset and builds a model to predict the housing price in the suburban area of Boston."
   ]
  },
  {
   "cell_type": "markdown",
   "metadata": {
    "id": "gFh9ne3FZ-On"
   },
   "source": [
    "\\### Get the data\n",
    "First download the dataset. Boston dataset is a build-in dataset in Keras. Notice that this build-in dataset has already been cleaned and preprocessed (normalized) by keras."
   ]
  },
  {
   "cell_type": "code",
   "execution_count": 7,
   "metadata": {
    "id": "p9kxxgzvzlyz",
    "scrolled": true,
    "tags": []
   },
   "outputs": [
    {
     "name": "stdout",
     "output_type": "stream",
     "text": [
      "Downloading data from https://storage.googleapis.com/tensorflow/tf-keras-datasets/boston_housing.npz\n",
      "57026/57026 [==============================] - 0s 1us/step\n"
     ]
    }
   ],
   "source": [
    "from tensorflow.keras.datasets import boston_housing\n",
    "(train_data, train_targets), (test_data, test_targets) = boston_housing.load_data()\n",
    "\n",
    "#dataset, which is already separated in train and test data.\n",
    "#The only parameter (path) is basically where to store the downloaded dataset."
   ]
  },
  {
   "cell_type": "code",
   "execution_count": 8,
   "metadata": {
    "id": "CiX2FI4gZtTt"
   },
   "outputs": [
    {
     "name": "stdout",
     "output_type": "stream",
     "text": [
      "Training data : (404, 13)\n",
      "Training target : (404,)\n",
      "Test data : (102, 13)\n",
      "Test target : (102,)\n"
     ]
    }
   ],
   "source": [
    "#check training and test size\n",
    "print('Training data : {}'.format(train_data.shape))\n",
    "print('Training target : {}'.format(train_targets.shape))\n",
    "print('Test data : {}'.format(test_data.shape))\n",
    "print('Test target : {}'.format(test_targets.shape))\n",
    "\n",
    "#so can know the regression model: y = g(β0 + β1x1 + ......+ β13x13) : 13 inputs  --> 找β > 1 output"
   ]
  },
  {
   "cell_type": "markdown",
   "metadata": {
    "id": "SmjdzxKzEu1-"
   },
   "source": [
    "## The model"
   ]
  },
  {
   "cell_type": "markdown",
   "metadata": {
    "id": "6SWtkIjhrZwa"
   },
   "source": [
    "### Build the model\n",
    "\n",
    "Let's build our model. Here, we'll use a `Sequential` model with an output layer that returns a single, continuous value. The model building steps are wrapped in a function, `build_model`, since we'll create a second model, later on."
   ]
  },
  {
   "cell_type": "code",
   "execution_count": 9,
   "metadata": {
    "id": "uiuoYH2FDNIY"
   },
   "outputs": [],
   "source": [
    "# methoud1: directly\n",
    "# Adam\n",
    "model = keras.Sequential([layers.Dense(1, input_shape=[train_data.shape[1]])])\n",
    "#dense: fully connected, CNN就不是dense\n",
    "#1是因為output只有1個\n",
    "optimizer = tf.keras.optimizers.Adam(0.001)\n",
    "#use Adam optimizer here, 0.001 is learning_rate, is default value\n",
    "#https://keras.io/api/optimizers/adam/\n",
    "model.compile(loss='mse',\n",
    "              optimizer=optimizer,\n",
    "              metrics=['mse'])\n",
    "#loss function: tell it is regression problem by MSE, metrics is model evaluation performance"
   ]
  },
  {
   "cell_type": "code",
   "execution_count": 10,
   "metadata": {
    "id": "KlwT-1feDNIZ"
   },
   "outputs": [],
   "source": [
    "#SGD\n",
    "model_1 = keras.Sequential([layers.Dense(1, input_shape=[train_data.shape[1]])])\n",
    "\n",
    "optimizer = tf.keras.optimizers.SGD(0.0000004)\n",
    "\n",
    "model_1.compile(loss='mse',\n",
    "              optimizer=optimizer,\n",
    "              metrics=['mse'])"
   ]
  },
  {
   "cell_type": "markdown",
   "metadata": {
    "id": "DPKsVjAYDNIa"
   },
   "source": [
    "### Build the model\n",
    "\n",
    "We can also wrap the model in a function, `build_model`, if we want to create a second model, later on."
   ]
  },
  {
   "cell_type": "code",
   "execution_count": 11,
   "metadata": {
    "id": "c26juK7ZG8j-",
    "tags": []
   },
   "outputs": [],
   "source": [
    "# methoud2: writing function for future use\n",
    "# Adam\n",
    "def build_model():\n",
    "    model = keras.Sequential([layers.Dense(1, input_shape=[train_data.shape[1]])])\n",
    "    optimizer = tf.keras.optimizers.Adam(0.001)\n",
    "    model.compile(loss='mse',\n",
    "                  optimizer=optimizer,\n",
    "                  metrics=['mse'])\n",
    "    return model"
   ]
  },
  {
   "cell_type": "markdown",
   "metadata": {
    "id": "Sj49Og4YGULr"
   },
   "source": [
    "### Inspect the model\n",
    "\n",
    "Use the `.summary` method to print a simple description of the model"
   ]
  },
  {
   "cell_type": "code",
   "execution_count": 12,
   "metadata": {
    "id": "ReAD0n6MsFK-"
   },
   "outputs": [
    {
     "name": "stdout",
     "output_type": "stream",
     "text": [
      "Model: \"sequential\"\n",
      "_________________________________________________________________\n",
      " Layer (type)                Output Shape              Param #   \n",
      "=================================================================\n",
      " dense (Dense)               (None, 1)                 14        \n",
      "                                                                 \n",
      "=================================================================\n",
      "Total params: 14\n",
      "Trainable params: 14\n",
      "Non-trainable params: 0\n",
      "_________________________________________________________________\n"
     ]
    }
   ],
   "source": [
    "model.summary()\n",
    "#1 output layer\n",
    "#number of parameters: 13 + 1(bias)"
   ]
  },
  {
   "cell_type": "code",
   "execution_count": 13,
   "metadata": {
    "id": "gvSFbNphDNIc"
   },
   "outputs": [
    {
     "name": "stdout",
     "output_type": "stream",
     "text": [
      "Model: \"sequential_1\"\n",
      "_________________________________________________________________\n",
      " Layer (type)                Output Shape              Param #   \n",
      "=================================================================\n",
      " dense_1 (Dense)             (None, 1)                 14        \n",
      "                                                                 \n",
      "=================================================================\n",
      "Total params: 14\n",
      "Trainable params: 14\n",
      "Non-trainable params: 0\n",
      "_________________________________________________________________\n"
     ]
    }
   ],
   "source": [
    "model_1.summary()"
   ]
  },
  {
   "cell_type": "markdown",
   "metadata": {
    "id": "0-qWCsh6DlyH"
   },
   "source": [
    "### Train the model\n",
    "\n",
    "Train the model for 2000 epochs, and record the training accuracy in the `history` object."
   ]
  },
  {
   "cell_type": "code",
   "execution_count": 14,
   "metadata": {
    "id": "sD7qHCmNIOY0"
   },
   "outputs": [
    {
     "name": "stdout",
     "output_type": "stream",
     "text": [
      "| Epoch    0 | training time   0.83s | train loss 10898.11 |\n",
      "| Epoch  100 | training time   3.45s | train loss 168.17 |\n",
      "| Epoch  200 | training time   5.95s | train loss  67.88 |\n",
      "| Epoch  300 | training time   8.39s | train loss  48.78 |\n",
      "| Epoch  400 | training time  10.89s | train loss  42.19 |\n",
      "| Epoch  500 | training time  13.33s | train loss  38.21 |\n",
      "| Epoch  600 | training time  15.78s | train loss  35.36 |\n",
      "| Epoch  700 | training time  18.17s | train loss  32.87 |\n",
      "| Epoch  800 | training time  20.64s | train loss  31.23 |\n",
      "| Epoch  900 | training time  23.08s | train loss  29.70 |\n",
      "| Epoch 1000 | training time  25.50s | train loss  28.66 |\n",
      "| Epoch 1100 | training time  27.92s | train loss  27.85 |\n",
      "| Epoch 1200 | training time  30.34s | train loss  27.15 |\n",
      "| Epoch 1300 | training time  32.73s | train loss  26.73 |\n",
      "| Epoch 1400 | training time  35.22s | train loss  26.42 |\n",
      "| Epoch 1500 | training time  37.66s | train loss  26.14 |\n",
      "| Epoch 1600 | training time  40.09s | train loss  25.58 |\n",
      "| Epoch 1700 | training time  42.50s | train loss  25.48 |\n",
      "| Epoch 1800 | training time  44.94s | train loss  25.60 |\n",
      "| Epoch 1900 | training time  47.41s | train loss  25.73 |\n",
      "| Epoch 2000 | training time  49.88s | train loss  25.01 |\n",
      "| Epoch 2100 | training time  52.36s | train loss  25.07 |\n",
      "| Epoch 2200 | training time  54.88s | train loss  25.24 |\n",
      "| Epoch 2300 | training time  57.44s | train loss  24.81 |\n",
      "| Epoch 2400 | training time  59.92s | train loss  25.38 |\n",
      "| Epoch 2500 | training time  62.38s | train loss  24.53 |\n",
      "| Epoch 2600 | training time  64.86s | train loss  24.83 |\n",
      "| Epoch 2700 | training time  67.30s | train loss  24.97 |\n",
      "| Epoch 2800 | training time  69.73s | train loss  24.75 |\n",
      "| Epoch 2900 | training time  72.20s | train loss  25.26 |\n",
      "| Epoch 3000 | training time  74.64s | train loss  24.63 |\n"
     ]
    }
   ],
   "source": [
    "# Display training progress by printing a single dot for each completed epoch\n",
    "# Adam\n",
    "class PrintLoss(keras.callbacks.Callback):\n",
    "    def on_epoch_begin(self, epoch, logs):\n",
    "        if epoch == 0: self.time = time.monotonic()\n",
    "    def on_epoch_end(self, epoch, logs):\n",
    "        if epoch % 100 == 0:\n",
    "            # calculate training time\n",
    "            t = time.monotonic() - self.time\n",
    "            # if validation set is included, its loss is recorded in logs['val_loss']\n",
    "            print('| Epoch {:4} | training time {:6.2f}s | train loss {:6.2f} |'\n",
    "                  .format(epoch, t, logs['loss']))\n",
    "EPOCHS = 3001 #k\n",
    "#only with 2900, so we set = 3001\n",
    "#e.g. sample size = n, total: k*n iterations\n",
    "#try and see when will converge\n",
    "\n",
    "history = model.fit(train_data, train_targets,\n",
    "                    epochs=EPOCHS, verbose=0,\n",
    "                    callbacks=[PrintLoss()])\n",
    "#if batch_size=500，就不會converge (train loss) / if = 404 --> full data set\n",
    "#SGD is very sensitive (when chooseing different stepsize)"
   ]
  },
  {
   "cell_type": "code",
   "execution_count": 15,
   "metadata": {
    "id": "1BZqkSlZDNIe"
   },
   "outputs": [
    {
     "name": "stdout",
     "output_type": "stream",
     "text": [
      "| Epoch    0 | training time   0.44s | train loss 26196.48 |\n",
      "| Epoch  100 | training time   2.88s | train loss  75.49 |\n",
      "| Epoch  200 | training time   5.28s | train loss  67.67 |\n",
      "| Epoch  300 | training time   7.70s | train loss  64.26 |\n",
      "| Epoch  400 | training time  10.11s | train loss  62.87 |\n",
      "| Epoch  500 | training time  12.50s | train loss  61.91 |\n",
      "| Epoch  600 | training time  14.92s | train loss  60.76 |\n",
      "| Epoch  700 | training time  17.31s | train loss  60.40 |\n",
      "| Epoch  800 | training time  19.73s | train loss  59.99 |\n",
      "| Epoch  900 | training time  22.19s | train loss  59.41 |\n",
      "| Epoch 1000 | training time  24.56s | train loss  59.32 |\n",
      "| Epoch 1100 | training time  26.98s | train loss  58.63 |\n",
      "| Epoch 1200 | training time  29.34s | train loss  58.38 |\n",
      "| Epoch 1300 | training time  31.76s | train loss  58.26 |\n",
      "| Epoch 1400 | training time  34.17s | train loss  58.21 |\n",
      "| Epoch 1500 | training time  36.58s | train loss  57.81 |\n",
      "| Epoch 1600 | training time  38.98s | train loss  58.01 |\n",
      "| Epoch 1700 | training time  41.41s | train loss  57.37 |\n",
      "| Epoch 1800 | training time  43.81s | train loss  57.21 |\n",
      "| Epoch 1900 | training time  46.22s | train loss  57.10 |\n",
      "| Epoch 2000 | training time  48.62s | train loss  57.00 |\n",
      "| Epoch 2100 | training time  51.03s | train loss  56.76 |\n",
      "| Epoch 2200 | training time  53.42s | train loss  56.28 |\n",
      "| Epoch 2300 | training time  55.83s | train loss  55.91 |\n",
      "| Epoch 2400 | training time  58.22s | train loss  55.89 |\n",
      "| Epoch 2500 | training time  60.64s | train loss  56.05 |\n",
      "| Epoch 2600 | training time  63.01s | train loss  55.32 |\n",
      "| Epoch 2700 | training time  65.42s | train loss  55.62 |\n",
      "| Epoch 2800 | training time  67.81s | train loss  55.24 |\n",
      "| Epoch 2900 | training time  70.20s | train loss  55.09 |\n",
      "| Epoch 3000 | training time  72.61s | train loss  55.03 |\n"
     ]
    }
   ],
   "source": [
    "# SDK\n",
    "class PrintLoss(keras.callbacks.Callback):\n",
    "    def on_epoch_begin(self, epoch, logs):\n",
    "        if epoch == 0: self.time = time.monotonic()\n",
    "    def on_epoch_end(self, epoch, logs):\n",
    "        if epoch % 100 == 0:\n",
    "            t = time.monotonic() - self.time\n",
    "            print('| Epoch {:4} | training time {:6.2f}s | train loss {:6.2f} |'\n",
    "                  .format(epoch, t, logs['loss']))\n",
    "EPOCHS = 3001 #k\n",
    "\n",
    "history_1 = model_1.fit(train_data, train_targets,\n",
    "                    epochs=EPOCHS, verbose=0,\n",
    "                    callbacks=[PrintLoss()])\n",
    "\n",
    "#SGD is very sensitive (when chooseing different stepsize)"
   ]
  },
  {
   "cell_type": "markdown",
   "metadata": {
    "id": "tQm3pc0FYPQB"
   },
   "source": [
    "Visualize the model's training progress using the stats stored in the `history` object."
   ]
  },
  {
   "cell_type": "code",
   "execution_count": 16,
   "metadata": {
    "id": "4Xj91b-dymEy"
   },
   "outputs": [
    {
     "data": {
      "text/html": [
       "<div>\n",
       "<style scoped>\n",
       "    .dataframe tbody tr th:only-of-type {\n",
       "        vertical-align: middle;\n",
       "    }\n",
       "\n",
       "    .dataframe tbody tr th {\n",
       "        vertical-align: top;\n",
       "    }\n",
       "\n",
       "    .dataframe thead th {\n",
       "        text-align: right;\n",
       "    }\n",
       "</style>\n",
       "<table border=\"1\" class=\"dataframe\">\n",
       "  <thead>\n",
       "    <tr style=\"text-align: right;\">\n",
       "      <th></th>\n",
       "      <th>loss</th>\n",
       "      <th>mse</th>\n",
       "      <th>epoch</th>\n",
       "    </tr>\n",
       "  </thead>\n",
       "  <tbody>\n",
       "    <tr>\n",
       "      <th>2996</th>\n",
       "      <td>24.513723</td>\n",
       "      <td>24.513723</td>\n",
       "      <td>2996</td>\n",
       "    </tr>\n",
       "    <tr>\n",
       "      <th>2997</th>\n",
       "      <td>24.710829</td>\n",
       "      <td>24.710829</td>\n",
       "      <td>2997</td>\n",
       "    </tr>\n",
       "    <tr>\n",
       "      <th>2998</th>\n",
       "      <td>24.609972</td>\n",
       "      <td>24.609972</td>\n",
       "      <td>2998</td>\n",
       "    </tr>\n",
       "    <tr>\n",
       "      <th>2999</th>\n",
       "      <td>24.594946</td>\n",
       "      <td>24.594946</td>\n",
       "      <td>2999</td>\n",
       "    </tr>\n",
       "    <tr>\n",
       "      <th>3000</th>\n",
       "      <td>24.631050</td>\n",
       "      <td>24.631050</td>\n",
       "      <td>3000</td>\n",
       "    </tr>\n",
       "  </tbody>\n",
       "</table>\n",
       "</div>"
      ],
      "text/plain": [
       "           loss        mse  epoch\n",
       "2996  24.513723  24.513723   2996\n",
       "2997  24.710829  24.710829   2997\n",
       "2998  24.609972  24.609972   2998\n",
       "2999  24.594946  24.594946   2999\n",
       "3000  24.631050  24.631050   3000"
      ]
     },
     "metadata": {},
     "output_type": "display_data"
    },
    {
     "data": {
      "text/html": [
       "<div>\n",
       "<style scoped>\n",
       "    .dataframe tbody tr th:only-of-type {\n",
       "        vertical-align: middle;\n",
       "    }\n",
       "\n",
       "    .dataframe tbody tr th {\n",
       "        vertical-align: top;\n",
       "    }\n",
       "\n",
       "    .dataframe thead th {\n",
       "        text-align: right;\n",
       "    }\n",
       "</style>\n",
       "<table border=\"1\" class=\"dataframe\">\n",
       "  <thead>\n",
       "    <tr style=\"text-align: right;\">\n",
       "      <th></th>\n",
       "      <th>loss</th>\n",
       "      <th>mse</th>\n",
       "      <th>epoch</th>\n",
       "    </tr>\n",
       "  </thead>\n",
       "  <tbody>\n",
       "    <tr>\n",
       "      <th>2996</th>\n",
       "      <td>55.062927</td>\n",
       "      <td>55.062927</td>\n",
       "      <td>2996</td>\n",
       "    </tr>\n",
       "    <tr>\n",
       "      <th>2997</th>\n",
       "      <td>54.740295</td>\n",
       "      <td>54.740295</td>\n",
       "      <td>2997</td>\n",
       "    </tr>\n",
       "    <tr>\n",
       "      <th>2998</th>\n",
       "      <td>55.117226</td>\n",
       "      <td>55.117226</td>\n",
       "      <td>2998</td>\n",
       "    </tr>\n",
       "    <tr>\n",
       "      <th>2999</th>\n",
       "      <td>55.023884</td>\n",
       "      <td>55.023884</td>\n",
       "      <td>2999</td>\n",
       "    </tr>\n",
       "    <tr>\n",
       "      <th>3000</th>\n",
       "      <td>55.028465</td>\n",
       "      <td>55.028465</td>\n",
       "      <td>3000</td>\n",
       "    </tr>\n",
       "  </tbody>\n",
       "</table>\n",
       "</div>"
      ],
      "text/plain": [
       "           loss        mse  epoch\n",
       "2996  55.062927  55.062927   2996\n",
       "2997  54.740295  54.740295   2997\n",
       "2998  55.117226  55.117226   2998\n",
       "2999  55.023884  55.023884   2999\n",
       "3000  55.028465  55.028465   3000"
      ]
     },
     "metadata": {},
     "output_type": "display_data"
    }
   ],
   "source": [
    "#turn into dataframe\n",
    "hist = pd.DataFrame(history.history)\n",
    "#new add column\n",
    "hist['epoch'] = history.epoch\n",
    "display(hist.tail())\n",
    "\n",
    "#SDK\n",
    "hist_1 = pd.DataFrame(history_1.history)\n",
    "#new add column\n",
    "hist_1['epoch'] = history_1.epoch\n",
    "display(hist_1.tail())"
   ]
  },
  {
   "cell_type": "code",
   "execution_count": 17,
   "metadata": {
    "id": "B6XriGbVPh2t"
   },
   "outputs": [
    {
     "data": {
      "image/png": "[encoded data removed]",
      "text/plain": [
       "<Figure size 640x480 with 1 Axes>"
      ]
     },
     "metadata": {},
     "output_type": "display_data"
    }
   ],
   "source": [
    "def plot_history(history):\n",
    "    hist = pd.DataFrame(history.history)\n",
    "    hist['epoch'] = history.epoch\n",
    "    hist.tail()\n",
    "\n",
    "    plt.figure()\n",
    "    plt.xlabel('Epoch')\n",
    "    plt.ylabel('Mean Square Error [MPG]')\n",
    "    plt.plot(hist['epoch'], hist['mse'],\n",
    "             label='Train Error')\n",
    "\n",
    "    plt.show()\n",
    "#Adam\n",
    "plot_history(history)"
   ]
  },
  {
   "cell_type": "code",
   "execution_count": 18,
   "metadata": {
    "id": "xLEj80R8DNIh"
   },
   "outputs": [
    {
     "data": {
      "image/png": "[encoded data removed]",
      "text/plain": [
       "<Figure size 640x480 with 1 Axes>"
      ]
     },
     "metadata": {},
     "output_type": "display_data"
    }
   ],
   "source": [
    "#SDK\n",
    "plot_history(history_1)"
   ]
  },
  {
   "cell_type": "markdown",
   "metadata": {
    "id": "ft603OzXuEZC"
   },
   "source": [
    "### Make predictions"
   ]
  },
  {
   "cell_type": "markdown",
   "metadata": {
    "id": "MytCgNYXDNIh"
   },
   "source": [
    "Calculate testing test mean squared error"
   ]
  },
  {
   "cell_type": "code",
   "execution_count": 19,
   "metadata": {
    "id": "uXgtHJpGDNIi"
   },
   "outputs": [
    {
     "name": "stdout",
     "output_type": "stream",
     "text": [
      "Adam: Testing set Mean Squared Error: 23.81\n",
      "SDK: Testing set Mean Squared Error: 65.58\n"
     ]
    }
   ],
   "source": [
    "_, mse = model.evaluate(test_data, test_targets, verbose=0)\n",
    "\n",
    "print(\"Adam: Testing set Mean Squared Error: {:5.2f}\".format(mse))\n",
    "\n",
    "#evaluate 印出的值是loss, accuracy(metric)\n",
    "#\"_\"代表最後一次執行的結果，或暫時性/不重要的變數\n",
    "#verbose = 0 代表不要輸出任何紀錄訊息\n",
    "#verbose = 1 表不輸出進度條紀錄，是default，\n",
    "#會出現4/4 [==============================] - 0s 972us/step - loss: 24.4064 - mse: 24.4064\n",
    "\n",
    "_, mse_1 = model_1.evaluate(test_data, test_targets, verbose=0)\n",
    "\n",
    "print(\"SDK: Testing set Mean Squared Error: {:5.2f}\".format(mse_1))\n"
   ]
  },
  {
   "cell_type": "markdown",
   "metadata": {
    "id": "18F-TPwuDNIi"
   },
   "source": [
    "Finally, predict housing price using data in the testing set:"
   ]
  },
  {
   "cell_type": "code",
   "execution_count": 20,
   "metadata": {
    "id": "Xe7RXH3N3CWU"
   },
   "outputs": [
    {
     "name": "stdout",
     "output_type": "stream",
     "text": [
      "4/4 [==============================] - 0s 0s/step\n"
     ]
    },
    {
     "data": {
      "image/png": "[encoded data removed]",
      "text/plain": [
       "<Figure size 640x480 with 1 Axes>"
      ]
     },
     "metadata": {},
     "output_type": "display_data"
    }
   ],
   "source": [
    "test_predictions = model.predict(test_data).flatten()\n",
    "\n",
    "plt.scatter(test_targets, test_predictions)\n",
    "plt.xlabel('True Values [price]')\n",
    "plt.ylabel('Predictions [price]')\n",
    "plt.axis('equal')\n",
    "plt.axis('square')\n",
    "plt.xlim([0,plt.xlim()[1]])\n",
    "plt.ylim([0,plt.ylim()[1]])\n",
    "_ = plt.plot([-100, 100], [-100, 100]) #diagonal line"
   ]
  },
  {
   "cell_type": "code",
   "execution_count": 21,
   "metadata": {
    "id": "f-rjbqPPDNIj"
   },
   "outputs": [
    {
     "name": "stdout",
     "output_type": "stream",
     "text": [
      "4/4 [==============================] - 0s 0s/step\n"
     ]
    },
    {
     "data": {
      "image/png": "[encoded data removed]",
      "text/plain": [
       "<Figure size 640x480 with 1 Axes>"
      ]
     },
     "metadata": {},
     "output_type": "display_data"
    }
   ],
   "source": [
    "test_predictions_1 = model_1.predict(test_data).flatten()\n",
    "\n",
    "plt.scatter(test_targets, test_predictions_1)\n",
    "plt.xlabel('True Values [price]')\n",
    "plt.ylabel('Predictions [price]')\n",
    "plt.axis('equal')\n",
    "plt.axis('square')\n",
    "plt.xlim([0,plt.xlim()[1]])\n",
    "plt.ylim([0,plt.ylim()[1]])\n",
    "_ = plt.plot([-100, 100], [-100, 100]) #diagonal line"
   ]
  },
  {
   "cell_type": "code",
   "execution_count": null,
   "metadata": {
    "id": "BoNEquw2GzZL"
   },
   "outputs": [],
   "source": []
  },
  {
   "cell_type": "code",
   "execution_count": null,
   "metadata": {},
   "outputs": [],
   "source": []
  }
 ],
 "metadata": {
  "colab": {
   "private_outputs": true,
   "provenance": []
  },
  "kernelspec": {
   "display_name": "Python 3 (ipykernel)",
   "language": "python",
   "name": "python3"
  },
  "language_info": {
   "codemirror_mode": {
    "name": "ipython",
    "version": 3
   },
   "file_extension": ".py",
   "mimetype": "text/x-python",
   "name": "python",
   "nbconvert_exporter": "python",
   "pygments_lexer": "ipython3",
   "version": "3.11.1"
  }
 },
 "nbformat": 4,
 "nbformat_minor": 1
}
